{
  "nbformat": 4,
  "nbformat_minor": 0,
  "metadata": {
    "colab": {
      "name": "网页解析.ipynb",
      "provenance": [],
      "authorship_tag": "ABX9TyO3+5jVh46sev04FKqizcPJ",
      "include_colab_link": true
    },
    "kernelspec": {
      "name": "python3",
      "display_name": "Python 3"
    },
    "language_info": {
      "name": "python"
    }
  },
  "cells": [
    {
      "cell_type": "markdown",
      "metadata": {
        "id": "view-in-github",
        "colab_type": "text"
      },
      "source": [
        "<a href=\"https://colab.research.google.com/github/450586509/practical-ml/blob/master/%E7%BD%91%E9%A1%B5%E8%A7%A3%E6%9E%90.ipynb\" target=\"_parent\"><img src=\"https://colab.research.google.com/assets/colab-badge.svg\" alt=\"Open In Colab\"/></a>"
      ]
    },
    {
      "cell_type": "code",
      "metadata": {
        "id": "CokK-3ti7Nep"
      },
      "source": [
        "from bs4 import BeautifulSoup"
      ],
      "execution_count": 1,
      "outputs": []
    },
    {
      "cell_type": "markdown",
      "metadata": {
        "id": "ydBsR4NG_tSv"
      },
      "source": [
        "文档：https://beautifulsoup.readthedocs.io/zh_CN/v4.4.0/\n"
      ]
    },
    {
      "cell_type": "markdown",
      "metadata": {
        "id": "v9bkWlNU-2Vv"
      },
      "source": [
        "### 获取content的方法；.contents可以将tag的子节点以列表的方式输出:\n",
        ".contents 和 .children 属性仅包含tag的直接子节点\n",
        ".descendants 获取所有的后代节点。"
      ]
    },
    {
      "cell_type": "code",
      "metadata": {
        "colab": {
          "base_uri": "https://localhost:8080/"
        },
        "id": "msPLzLfY7Ube",
        "outputId": "5c089d70-d5f7-4be6-84a7-cdec5d470ad9"
      },
      "source": [
        "s = \"<head><title>The Dormouse's story</title><div>div</div></head>\"\n",
        "soup =  BeautifulSoup(s)\n",
        "td = soup.find('head') #<td>My home address</td>\n",
        "print(td.contents) #My home address\n",
        "#print(soup.head.contents.)"
      ],
      "execution_count": 31,
      "outputs": [
        {
          "output_type": "stream",
          "text": [
            "[<title>The Dormouse's story</title>]\n"
          ],
          "name": "stdout"
        }
      ]
    },
    {
      "cell_type": "code",
      "metadata": {
        "id": "9bUfxWnM7gOY"
      },
      "source": [
        "html_doc = \"\"\"\n",
        "<html><head><title>The Dormouse's story</title></head>\n",
        "<body>\n",
        "<p class=\"title\"><b>The Dormouse's story</b></p>\n",
        "<a class=\"title\"><b>The Dormouse's story</b></a>\n",
        "<p class=\"story\">Once upon a time there were three little sisters; and their names were\n",
        "<a href=\"http://example.com/elsie\" class=\"sister\" id=\"link1\">Elsie</a>,\n",
        "<a href=\"http://example.com/lacie\" class=\"sister\" id=\"link2\">Lacie</a> and\n",
        "<a href=\"http://example.com/tillie\" class=\"sister\" id=\"link3\">Tillie</a>;\n",
        "and they lived at the bottom of a well.</p>\n",
        "\n",
        "<p class=\"story\">...</p>\n",
        "\"\"\""
      ],
      "execution_count": 34,
      "outputs": []
    },
    {
      "cell_type": "code",
      "metadata": {
        "id": "HVmi4PaI8lZ9"
      },
      "source": [
        "soup =  BeautifulSoup(html_doc)"
      ],
      "execution_count": 35,
      "outputs": []
    },
    {
      "cell_type": "code",
      "metadata": {
        "colab": {
          "base_uri": "https://localhost:8080/"
        },
        "id": "rS0dbJgu9Ch8",
        "outputId": "2738665e-bf39-45dd-c520-4f0a0569136d"
      },
      "source": [
        "for i, tag in enumerate(soup.html.body.contents):\n",
        "  if tag is None:\n",
        "    print(\"none\")\n",
        "  print(f\"i={i} tag={tag} {type(tag)}\")\n"
      ],
      "execution_count": 40,
      "outputs": [
        {
          "output_type": "stream",
          "text": [
            "i=0 tag=\n",
            " <class 'bs4.element.NavigableString'>\n",
            "i=1 tag=<p class=\"title\"><b>The Dormouse's story</b></p> <class 'bs4.element.Tag'>\n",
            "i=2 tag=\n",
            " <class 'bs4.element.NavigableString'>\n",
            "i=3 tag=<a class=\"title\"><b>The Dormouse's story</b></a> <class 'bs4.element.Tag'>\n",
            "i=4 tag=\n",
            " <class 'bs4.element.NavigableString'>\n",
            "i=5 tag=<p class=\"story\">Once upon a time there were three little sisters; and their names were\n",
            "<a class=\"sister\" href=\"http://example.com/elsie\" id=\"link1\">Elsie</a>,\n",
            "<a class=\"sister\" href=\"http://example.com/lacie\" id=\"link2\">Lacie</a> and\n",
            "<a class=\"sister\" href=\"http://example.com/tillie\" id=\"link3\">Tillie</a>;\n",
            "and they lived at the bottom of a well.</p> <class 'bs4.element.Tag'>\n",
            "i=6 tag=\n",
            " <class 'bs4.element.NavigableString'>\n",
            "i=7 tag=<p class=\"story\">...</p> <class 'bs4.element.Tag'>\n",
            "i=8 tag=\n",
            " <class 'bs4.element.NavigableString'>\n"
          ],
          "name": "stdout"
        }
      ]
    },
    {
      "cell_type": "code",
      "metadata": {
        "id": "QqO2oicV9Es6"
      },
      "source": [
        ""
      ],
      "execution_count": null,
      "outputs": []
    }
  ]
}