{
  "nbformat": 4,
  "nbformat_minor": 0,
  "metadata": {
    "colab": {
      "name": "pandas基础.ipynb",
      "provenance": [],
      "authorship_tag": "ABX9TyMlUJHdJY7/+zQusg16yoos",
      "include_colab_link": true
    },
    "kernelspec": {
      "name": "python3",
      "display_name": "Python 3"
    }
  },
  "cells": [
    {
      "cell_type": "markdown",
      "metadata": {
        "id": "view-in-github",
        "colab_type": "text"
      },
      "source": [
        "<a href=\"https://colab.research.google.com/github/450586509/practical-ml/blob/master/pandas%E5%9F%BA%E7%A1%80.ipynb\" target=\"_parent\"><img src=\"https://colab.research.google.com/assets/colab-badge.svg\" alt=\"Open In Colab\"/></a>"
      ]
    },
    {
      "cell_type": "code",
      "metadata": {
        "id": "VuKNuEAXHuvq"
      },
      "source": [
        "import pandas as pd\n",
        "import numpy as np"
      ],
      "execution_count": 4,
      "outputs": []
    },
    {
      "cell_type": "code",
      "metadata": {
        "id": "IzNh6pWFIEnA",
        "outputId": "0f9f2908-4e73-4207-8514-04420ecf5c8a",
        "colab": {
          "base_uri": "https://localhost:8080/"
        }
      },
      "source": [
        "df = pd.DataFrame([[1,2,3,4],[11,22,33,44],[111,222,333,444]], columns=list('ABCD'))\n",
        "print(df)"
      ],
      "execution_count": 9,
      "outputs": [
        {
          "output_type": "stream",
          "text": [
            "     A    B    C    D\n",
            "0    1    2    3    4\n",
            "1   11   22   33   44\n",
            "2  111  222  333  444\n"
          ],
          "name": "stdout"
        }
      ]
    },
    {
      "cell_type": "markdown",
      "metadata": {
        "id": "lhjNFy7ZHyo-"
      },
      "source": [
        "### 列映射"
      ]
    },
    {
      "cell_type": "code",
      "metadata": {
        "id": "y_bRAck7H0DV",
        "outputId": "f0980113-8aff-4044-87d4-2fa04b9f7408",
        "colab": {
          "base_uri": "https://localhost:8080/"
        }
      },
      "source": [
        "d = df[\"A\"].map(lambda x: x+1)\n",
        "print(f\"type={type(d)}\")\n",
        "print(d)"
      ],
      "execution_count": 18,
      "outputs": [
        {
          "output_type": "stream",
          "text": [
            "type=<class 'pandas.core.series.Series'>\n",
            "0      2\n",
            "1     12\n",
            "2    112\n",
            "Name: A, dtype: int64\n"
          ],
          "name": "stdout"
        }
      ]
    },
    {
      "cell_type": "code",
      "metadata": {
        "id": "J-TLOPJhIeoE",
        "outputId": "cfee7390-c5a6-4384-fc76-b072aee8f7be",
        "colab": {
          "base_uri": "https://localhost:8080/"
        }
      },
      "source": [
        "#列的映射本质上是Series的映射\n",
        "c = df[\"A\"]\n",
        "print(f\"c type ={type(c)}\")\n",
        "print(c)\n"
      ],
      "execution_count": 21,
      "outputs": [
        {
          "output_type": "stream",
          "text": [
            "c type =<class 'pandas.core.series.Series'>\n",
            "0      1\n",
            "1     11\n",
            "2    111\n",
            "Name: A, dtype: int64\n"
          ],
          "name": "stdout"
        }
      ]
    },
    {
      "cell_type": "code",
      "metadata": {
        "id": "bYZs8sr9JQuk",
        "outputId": "27c63d44-c727-4ba6-cf84-bcb62dcd7c79",
        "colab": {
          "base_uri": "https://localhost:8080/"
        }
      },
      "source": [
        "## 修改列\n",
        "df[\"A\"] = df[\"A\"].map(lambda x:x*2)\n",
        "print(df[\"A\"])\n",
        "print(df)"
      ],
      "execution_count": 25,
      "outputs": [
        {
          "output_type": "stream",
          "text": [
            "0      8\n",
            "1     88\n",
            "2    888\n",
            "Name: A, dtype: int64\n",
            "     A    B    C    D\n",
            "0    8    2    3    4\n",
            "1   88   22   33   44\n",
            "2  888  222  333  444\n"
          ],
          "name": "stdout"
        }
      ]
    },
    {
      "cell_type": "markdown",
      "metadata": {
        "id": "ORN46xrIL2tB"
      },
      "source": [
        "### 列的比较操作"
      ]
    },
    {
      "cell_type": "code",
      "metadata": {
        "id": "27vWretKI8C8",
        "outputId": "b5132a80-79b3-4283-d559-3cbade379fec",
        "colab": {
          "base_uri": "https://localhost:8080/"
        }
      },
      "source": [
        "### 列的比较操作，返回的都是Series\n",
        "#Series与常量比较\n",
        "print(df.A<100)\n",
        "#Series与Series比较\n",
        "print(df.B>df.C)"
      ],
      "execution_count": 34,
      "outputs": [
        {
          "output_type": "stream",
          "text": [
            "0     True\n",
            "1     True\n",
            "2    False\n",
            "Name: A, dtype: bool\n",
            "0    False\n",
            "1    False\n",
            "2    False\n",
            "dtype: bool\n"
          ],
          "name": "stdout"
        }
      ]
    },
    {
      "cell_type": "markdown",
      "metadata": {
        "id": "TdghhRboL6SL"
      },
      "source": [
        "### 按行获取"
      ]
    },
    {
      "cell_type": "code",
      "metadata": {
        "id": "u6EoLl8PL5zQ",
        "outputId": "19fd7bee-bd6b-4781-f015-509a2c1950a2",
        "colab": {
          "base_uri": "https://localhost:8080/",
          "height": 182
        }
      },
      "source": [
        "#利用Series获取行\n",
        "s = df.A<100\n",
        "print(s)\n",
        "df[s]"
      ],
      "execution_count": 37,
      "outputs": [
        {
          "output_type": "stream",
          "text": [
            "0     True\n",
            "1     True\n",
            "2    False\n",
            "Name: A, dtype: bool\n"
          ],
          "name": "stdout"
        },
        {
          "output_type": "execute_result",
          "data": {
            "text/html": [
              "<div>\n",
              "<style scoped>\n",
              "    .dataframe tbody tr th:only-of-type {\n",
              "        vertical-align: middle;\n",
              "    }\n",
              "\n",
              "    .dataframe tbody tr th {\n",
              "        vertical-align: top;\n",
              "    }\n",
              "\n",
              "    .dataframe thead th {\n",
              "        text-align: right;\n",
              "    }\n",
              "</style>\n",
              "<table border=\"1\" class=\"dataframe\">\n",
              "  <thead>\n",
              "    <tr style=\"text-align: right;\">\n",
              "      <th></th>\n",
              "      <th>A</th>\n",
              "      <th>B</th>\n",
              "      <th>C</th>\n",
              "      <th>D</th>\n",
              "    </tr>\n",
              "  </thead>\n",
              "  <tbody>\n",
              "    <tr>\n",
              "      <th>0</th>\n",
              "      <td>8</td>\n",
              "      <td>2</td>\n",
              "      <td>3</td>\n",
              "      <td>4</td>\n",
              "    </tr>\n",
              "    <tr>\n",
              "      <th>1</th>\n",
              "      <td>88</td>\n",
              "      <td>22</td>\n",
              "      <td>33</td>\n",
              "      <td>44</td>\n",
              "    </tr>\n",
              "  </tbody>\n",
              "</table>\n",
              "</div>"
            ],
            "text/plain": [
              "    A   B   C   D\n",
              "0   8   2   3   4\n",
              "1  88  22  33  44"
            ]
          },
          "metadata": {
            "tags": []
          },
          "execution_count": 37
        }
      ]
    },
    {
      "cell_type": "markdown",
      "metadata": {
        "id": "6FHwV7rWL5-d"
      },
      "source": [
        ""
      ]
    },
    {
      "cell_type": "code",
      "metadata": {
        "id": "KTzuWStsLHXf",
        "outputId": "6e0b9ddb-48b4-418b-d7c4-220bc43d9cfb",
        "colab": {
          "base_uri": "https://localhost:8080/",
          "height": 110
        }
      },
      "source": [
        "#过滤出满足某些条件的行\n",
        "df[df.B<50]"
      ],
      "execution_count": 40,
      "outputs": [
        {
          "output_type": "execute_result",
          "data": {
            "text/html": [
              "<div>\n",
              "<style scoped>\n",
              "    .dataframe tbody tr th:only-of-type {\n",
              "        vertical-align: middle;\n",
              "    }\n",
              "\n",
              "    .dataframe tbody tr th {\n",
              "        vertical-align: top;\n",
              "    }\n",
              "\n",
              "    .dataframe thead th {\n",
              "        text-align: right;\n",
              "    }\n",
              "</style>\n",
              "<table border=\"1\" class=\"dataframe\">\n",
              "  <thead>\n",
              "    <tr style=\"text-align: right;\">\n",
              "      <th></th>\n",
              "      <th>A</th>\n",
              "      <th>B</th>\n",
              "      <th>C</th>\n",
              "      <th>D</th>\n",
              "    </tr>\n",
              "  </thead>\n",
              "  <tbody>\n",
              "    <tr>\n",
              "      <th>0</th>\n",
              "      <td>8</td>\n",
              "      <td>2</td>\n",
              "      <td>3</td>\n",
              "      <td>4</td>\n",
              "    </tr>\n",
              "    <tr>\n",
              "      <th>1</th>\n",
              "      <td>88</td>\n",
              "      <td>22</td>\n",
              "      <td>33</td>\n",
              "      <td>44</td>\n",
              "    </tr>\n",
              "  </tbody>\n",
              "</table>\n",
              "</div>"
            ],
            "text/plain": [
              "    A   B   C   D\n",
              "0   8   2   3   4\n",
              "1  88  22  33  44"
            ]
          },
          "metadata": {
            "tags": []
          },
          "execution_count": 40
        }
      ]
    },
    {
      "cell_type": "code",
      "metadata": {
        "id": "s8G2CtyRMMuj"
      },
      "source": [
        ""
      ],
      "execution_count": null,
      "outputs": []
    }
  ]
}