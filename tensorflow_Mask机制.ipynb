{
  "nbformat": 4,
  "nbformat_minor": 0,
  "metadata": {
    "colab": {
      "name": "tensorflow-Mask机制.ipynb",
      "provenance": [],
      "include_colab_link": true
    },
    "kernelspec": {
      "name": "python3",
      "display_name": "Python 3"
    }
  },
  "cells": [
    {
      "cell_type": "markdown",
      "metadata": {
        "id": "view-in-github",
        "colab_type": "text"
      },
      "source": [
        "<a href=\"https://colab.research.google.com/github/450586509/practical-ml/blob/master/tensorflow_Mask%E6%9C%BA%E5%88%B6.ipynb\" target=\"_parent\"><img src=\"https://colab.research.google.com/assets/colab-badge.svg\" alt=\"Open In Colab\"/></a>"
      ]
    },
    {
      "cell_type": "code",
      "metadata": {
        "id": "_fnlAtIch8Ad",
        "colab_type": "code",
        "colab": {
          "base_uri": "https://localhost:8080/",
          "height": 71
        },
        "outputId": "93132aeb-7ec8-47ab-bfd3-f76d2638b8aa"
      },
      "source": [
        "import tensorflow as tf\n",
        "import tensorflow.keras.layers as L\n",
        "\n",
        "sess = tf.InteractiveSession()"
      ],
      "execution_count": 40,
      "outputs": [
        {
          "output_type": "stream",
          "text": [
            "/usr/local/lib/python3.6/dist-packages/tensorflow_core/python/client/session.py:1750: UserWarning: An interactive session is already active. This can cause out-of-memory errors in some cases. You must explicitly call `InteractiveSession.close()` to release resources held by the other session(s).\n",
            "  warnings.warn('An interactive session is already active. This can '\n"
          ],
          "name": "stderr"
        }
      ]
    },
    {
      "cell_type": "code",
      "metadata": {
        "id": "hidr0uR2g--W",
        "colab_type": "code",
        "colab": {}
      },
      "source": [
        "raw_inputs = [\n",
        "  [83, 91, 1, 645, 1253, 927],\n",
        "  [73, 8, 3215, 55, 927],\n",
        "  [71, 1331, 4231]\n",
        "]"
      ],
      "execution_count": 0,
      "outputs": []
    },
    {
      "cell_type": "code",
      "metadata": {
        "id": "otlXGUXbh7Fx",
        "colab_type": "code",
        "colab": {
          "base_uri": "https://localhost:8080/",
          "height": 68
        },
        "outputId": "d070a723-67b1-43bf-eebd-74cc9f840761"
      },
      "source": [
        "padded_inputs = tf.keras.preprocessing.sequence.pad_sequences(raw_inputs,padding='post')\n",
        "print(padded_inputs)"
      ],
      "execution_count": 42,
      "outputs": [
        {
          "output_type": "stream",
          "text": [
            "[[  83   91    1  645 1253  927]\n",
            " [  73    8 3215   55  927    0]\n",
            " [  71 1331 4231    0    0    0]]\n"
          ],
          "name": "stdout"
        }
      ]
    },
    {
      "cell_type": "markdown",
      "metadata": {
        "id": "90F8d1DsiYQ_",
        "colab_type": "text"
      },
      "source": [
        "### 有三种Mask机制\n",
        "\n",
        "\n",
        "*   利用keras.layers.Masking\n",
        "*   配置keras.layers.Embedding的mask_zero=True\n",
        "*   对支持Mask的层，传递mask参数\n",
        "\n"
      ]
    },
    {
      "cell_type": "markdown",
      "metadata": {
        "id": "p1Cj76iLkaoe",
        "colab_type": "text"
      },
      "source": [
        "#### 验证Embedding层"
      ]
    },
    {
      "cell_type": "code",
      "metadata": {
        "id": "914G6AJciN3w",
        "colab_type": "code",
        "colab": {
          "base_uri": "https://localhost:8080/",
          "height": 34
        },
        "outputId": "cc620d07-a0f1-4785-e477-bbcac6cc70e1"
      },
      "source": [
        "embedding = L.Embedding(input_dim=5000, output_dim=16, mask_zero=True)\n",
        "masked_output = embedding(padded_inputs)\n",
        "\n",
        "print(masked_output._keras_mask)"
      ],
      "execution_count": 43,
      "outputs": [
        {
          "output_type": "stream",
          "text": [
            "Tensor(\"embedding_3/NotEqual:0\", shape=(3, 6), dtype=bool)\n"
          ],
          "name": "stdout"
        }
      ]
    },
    {
      "cell_type": "code",
      "metadata": {
        "id": "OBhZ-Hg0i-9Q",
        "colab_type": "code",
        "colab": {}
      },
      "source": [
        "init = tf.global_variables_initializer()\n",
        "sess.run(init)"
      ],
      "execution_count": 0,
      "outputs": []
    },
    {
      "cell_type": "code",
      "metadata": {
        "id": "FLPc5D3bjTQ8",
        "colab_type": "code",
        "colab": {
          "base_uri": "https://localhost:8080/",
          "height": 68
        },
        "outputId": "38c2b04b-0cb6-4de2-c3d7-df3df2a65b87"
      },
      "source": [
        "## 为什么在Embedding中设置mask_zero=True,会给后面的层带来mask效果，因为\n",
        "## 输出的tensor中有_keras_mask成员，表示mask信息。\n",
        "sess.run(masked_output._keras_mask)"
      ],
      "execution_count": 45,
      "outputs": [
        {
          "output_type": "execute_result",
          "data": {
            "text/plain": [
              "array([[ True,  True,  True,  True,  True,  True],\n",
              "       [ True,  True,  True,  True,  True, False],\n",
              "       [ True,  True,  True, False, False, False]])"
            ]
          },
          "metadata": {
            "tags": []
          },
          "execution_count": 45
        }
      ]
    },
    {
      "cell_type": "markdown",
      "metadata": {
        "id": "RFJXnNUQkfC-",
        "colab_type": "text"
      },
      "source": [
        "#### 验证Masking层\n",
        "\n",
        "\n",
        "原理：被masking的tensor增加了一个属性：._keras_mask，表示哪些被mask掉"
      ]
    },
    {
      "cell_type": "code",
      "metadata": {
        "id": "pJ-p0MFujmzS",
        "colab_type": "code",
        "colab": {
          "base_uri": "https://localhost:8080/",
          "height": 34
        },
        "outputId": "47d37105-da74-4463-bc09-827ab77e6292"
      },
      "source": [
        "masking_layer = L.Masking()\n",
        "# Simulate the embedding lookup by expanding the 2D input to 3D,\n",
        "# with embedding dimension of 10.\n",
        "unmasked_embedding = tf.cast(\n",
        "    tf.tile(tf.expand_dims(padded_inputs, axis=-1), [1, 1, 10]),\n",
        "    tf.float32)\n",
        "\n",
        "masked_embedding = masking_layer(unmasked_embedding)\n",
        "print(masked_embedding._keras_mask)"
      ],
      "execution_count": 65,
      "outputs": [
        {
          "output_type": "stream",
          "text": [
            "Tensor(\"masking_2/Squeeze:0\", shape=(3, 6), dtype=bool)\n"
          ],
          "name": "stdout"
        }
      ]
    },
    {
      "cell_type": "code",
      "metadata": {
        "id": "XzbwdM7skwkZ",
        "colab_type": "code",
        "colab": {
          "base_uri": "https://localhost:8080/",
          "height": 68
        },
        "outputId": "5476c2a6-d867-471f-9fd4-20fc07fb8d13"
      },
      "source": [
        "print(\"masked_embedding._keras_mask={}\".format(masked_embedding._keras_mask.eval()))"
      ],
      "execution_count": 66,
      "outputs": [
        {
          "output_type": "stream",
          "text": [
            "masked_embedding._keras_mask=[[ True  True  True  True  True  True]\n",
            " [ True  True  True  True  True False]\n",
            " [ True  True  True False False False]]\n"
          ],
          "name": "stdout"
        }
      ]
    },
    {
      "cell_type": "code",
      "metadata": {
        "id": "WYm3nIrnk2X6",
        "colab_type": "code",
        "colab": {}
      },
      "source": [
        "###"
      ],
      "execution_count": 0,
      "outputs": []
    },
    {
      "cell_type": "markdown",
      "metadata": {
        "id": "6iXWSDZboRTx",
        "colab_type": "text"
      },
      "source": [
        "### 第二个lstm是否有mask信息\n",
        "\n",
        "结论：mask信息在mask层中可以传递"
      ]
    },
    {
      "cell_type": "code",
      "metadata": {
        "id": "XmCoMuUImOXN",
        "colab_type": "code",
        "colab": {}
      },
      "source": [
        "lstm_first = L.LSTM(units=10,return_sequences=True,activation='sigmoid')\n",
        "lstm_second = L.LSTM(units=1, return_sequences=True, activation='sigmoid')"
      ],
      "execution_count": 0,
      "outputs": []
    },
    {
      "cell_type": "code",
      "metadata": {
        "id": "wip4v-t6oegU",
        "colab_type": "code",
        "colab": {}
      },
      "source": [
        "\n",
        "lstm_first_out = lstm_first(masked_embedding)\n",
        "lstm_second_out = lstm_second(lstm_first_out)"
      ],
      "execution_count": 0,
      "outputs": []
    },
    {
      "cell_type": "code",
      "metadata": {
        "id": "tu99T44Bo-d9",
        "colab_type": "code",
        "colab": {
          "base_uri": "https://localhost:8080/",
          "height": 119
        },
        "outputId": "332f8027-11a4-4dbb-e407-35caf52f2274"
      },
      "source": [
        "init = tf.global_variables_initializer()\n",
        "sess.run(init)\n",
        "print(\"lstm_first_out._keras_mask={}\".format(lstm_first_out._keras_mask.eval()))\n",
        "print(\"lstm_second_out._keras_mask={}\".format(lstm_second_out._keras_mask.eval()))"
      ],
      "execution_count": 86,
      "outputs": [
        {
          "output_type": "stream",
          "text": [
            "lstm_first_out._keras_mask=[[ True  True  True  True  True  True]\n",
            " [ True  True  True  True  True False]\n",
            " [ True  True  True False False False]]\n",
            "lstm_second_out._keras_mask=[[ True  True  True  True  True  True]\n",
            " [ True  True  True  True  True False]\n",
            " [ True  True  True False False False]]\n"
          ],
          "name": "stdout"
        }
      ]
    },
    {
      "cell_type": "code",
      "metadata": {
        "id": "khtF3i7RpA1k",
        "colab_type": "code",
        "colab": {
          "base_uri": "https://localhost:8080/",
          "height": 68
        },
        "outputId": "ae4313e1-ba0c-448a-c749-0702a8022093"
      },
      "source": [
        "lstm_second_out._keras_mask.eval()"
      ],
      "execution_count": 83,
      "outputs": [
        {
          "output_type": "execute_result",
          "data": {
            "text/plain": [
              "array([[ True,  True,  True,  True,  True,  True],\n",
              "       [ True,  True,  True,  True,  True, False],\n",
              "       [ True,  True,  True, False, False, False]])"
            ]
          },
          "metadata": {
            "tags": []
          },
          "execution_count": 83
        }
      ]
    },
    {
      "cell_type": "code",
      "metadata": {
        "id": "zX7tyb9JsBUT",
        "colab_type": "code",
        "colab": {}
      },
      "source": [
        ""
      ],
      "execution_count": 0,
      "outputs": []
    }
  ]
}