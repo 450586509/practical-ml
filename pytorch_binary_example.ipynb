{
  "nbformat": 4,
  "nbformat_minor": 0,
  "metadata": {
    "colab": {
      "name": "pytorch_binary_example.ipynb",
      "provenance": [],
      "authorship_tag": "ABX9TyM/DVzUijXdOmuwyS5MCTLe",
      "include_colab_link": true
    },
    "kernelspec": {
      "name": "python3",
      "display_name": "Python 3"
    }
  },
  "cells": [
    {
      "cell_type": "markdown",
      "metadata": {
        "id": "view-in-github",
        "colab_type": "text"
      },
      "source": [
        "<a href=\"https://colab.research.google.com/github/450586509/practical-ml/blob/master/pytorch_binary_example.ipynb\" target=\"_parent\"><img src=\"https://colab.research.google.com/assets/colab-badge.svg\" alt=\"Open In Colab\"/></a>"
      ]
    },
    {
      "cell_type": "code",
      "metadata": {
        "id": "YmPy1cfCGgXR",
        "outputId": "c6bb51b5-ec31-40ba-c465-b34f3ecd05a3",
        "colab": {
          "base_uri": "https://localhost:8080/",
          "height": 52
        }
      },
      "source": [
        "import torch\n",
        "import torch.nn as nn\n",
        "from torch.autograd import Variable\n",
        "import torch.optim as optim\n",
        "\n",
        "import matplotlib.pyplot as plt\n",
        "%matplotlib inline\n",
        "\n",
        "X1 = torch.randn(1000, 50)\n",
        "X2 = torch.randn(1000, 50) + 1.5\n",
        "X = torch.cat([X1, X2], dim=0)\n",
        "Y1 = torch.zeros(1000, 1)\n",
        "Y2 = torch.ones(1000, 1)\n",
        "Y = torch.cat([Y1, Y2], dim=0)\n",
        "print(X.size())\n",
        "print(Y.size())"
      ],
      "execution_count": 1,
      "outputs": [
        {
          "output_type": "stream",
          "text": [
            "torch.Size([2000, 50])\n",
            "torch.Size([2000, 1])\n"
          ],
          "name": "stdout"
        }
      ]
    },
    {
      "cell_type": "code",
      "metadata": {
        "id": "T9Ac3xW_H4iA",
        "outputId": "7383ff1e-5e5c-45f0-fee4-a9bbc7aeadb3",
        "colab": {
          "base_uri": "https://localhost:8080/",
          "height": 282
        }
      },
      "source": [
        "plt.scatter(X1[:, 0], X1[:, 1], color='b')\n",
        "plt.scatter(X2[:, 0], X2[:, 1], color='r')"
      ],
      "execution_count": 2,
      "outputs": [
        {
          "output_type": "execute_result",
          "data": {
            "text/plain": [
              "<matplotlib.collections.PathCollection at 0x7f748a2582b0>"
            ]
          },
          "metadata": {
            "tags": []
          },
          "execution_count": 2
        },
        {
          "output_type": "display_data",
          "data": {
            "image/png": "[encoded data removed]",
            "text/plain": [
              "<Figure size 432x288 with 1 Axes>"
            ]
          },
          "metadata": {
            "tags": [],
            "needs_background": "light"
          }
        }
      ]
    },
    {
      "cell_type": "code",
      "metadata": {
        "id": "DDhnvMVFH8Nh"
      },
      "source": [
        "class Net(nn.Module):\n",
        "    \n",
        "    def __init__(self):\n",
        "        super().__init__()\n",
        "        self.fc1 = nn.Linear(50, 50)\n",
        "        self.relu1 = nn.ReLU()\n",
        "        self.dout = nn.Dropout(0.2)\n",
        "        self.fc2 = nn.Linear(50, 100)\n",
        "        self.prelu = nn.PReLU(1)\n",
        "        self.out = nn.Linear(100, 1)\n",
        "        self.out_act = nn.Sigmoid()\n",
        "        \n",
        "    def forward(self, input_):\n",
        "        a1 = self.fc1(input_)\n",
        "        h1 = self.relu1(a1)\n",
        "        dout = self.dout(h1)\n",
        "        a2 = self.fc2(dout)\n",
        "        h2 = self.prelu(a2)\n",
        "        a3 = self.out(h2)\n",
        "        y = self.out_act(a3)\n",
        "        return y\n",
        "    \n",
        "net = Net()\n",
        "opt = optim.Adam(net.parameters(), lr=0.001, betas=(0.9, 0.999))\n",
        "criterion = nn.BCELoss()"
      ],
      "execution_count": 3,
      "outputs": []
    },
    {
      "cell_type": "code",
      "metadata": {
        "id": "HDQndO9VH_68"
      },
      "source": [
        "def train_epoch(model, opt, criterion, batch_size=50):\n",
        "    model.train()\n",
        "    losses = []\n",
        "    for beg_i in range(0, X.size(0), batch_size):\n",
        "        x_batch = X[beg_i:beg_i + batch_size, :]\n",
        "        y_batch = Y[beg_i:beg_i + batch_size, :]\n",
        "        x_batch = Variable(x_batch)\n",
        "        y_batch = Variable(y_batch)\n",
        "\n",
        "        opt.zero_grad()\n",
        "        # (1) Forward\n",
        "        y_hat = net(x_batch)\n",
        "        # (2) Compute diff\n",
        "        loss = criterion(y_hat, y_batch)\n",
        "        # (3) Compute gradients\n",
        "        loss.backward()\n",
        "        # (4) update weights\n",
        "        opt.step()        \n",
        "        losses.append(loss.data.numpy())\n",
        "    return losses"
      ],
      "execution_count": 4,
      "outputs": []
    },
    {
      "cell_type": "code",
      "metadata": {
        "id": "LEOxOLiMIWRe",
        "outputId": "3cfe2d26-64de-4a5f-9e49-9f1363e655ae",
        "colab": {
          "base_uri": "https://localhost:8080/",
          "height": 363
        }
      },
      "source": [
        "print(Y[0:10])\n",
        "print(Y[-10:])\n",
        "#print(X[0:10])"
      ],
      "execution_count": 12,
      "outputs": [
        {
          "output_type": "stream",
          "text": [
            "tensor([[0.],\n",
            "        [0.],\n",
            "        [0.],\n",
            "        [0.],\n",
            "        [0.],\n",
            "        [0.],\n",
            "        [0.],\n",
            "        [0.],\n",
            "        [0.],\n",
            "        [0.]])\n",
            "tensor([[1.],\n",
            "        [1.],\n",
            "        [1.],\n",
            "        [1.],\n",
            "        [1.],\n",
            "        [1.],\n",
            "        [1.],\n",
            "        [1.],\n",
            "        [1.],\n",
            "        [1.]])\n"
          ],
          "name": "stdout"
        }
      ]
    },
    {
      "cell_type": "code",
      "metadata": {
        "id": "Qhauyi7-ID5P",
        "outputId": "e34848cd-174c-493f-f73c-7b44b91da968",
        "colab": {
          "base_uri": "https://localhost:8080/",
          "height": 282
        }
      },
      "source": [
        "e_losses = []\n",
        "num_epochs = 20\n",
        "for e in range(num_epochs):\n",
        "    e_losses += train_epoch(net, opt, criterion)\n",
        "plt.plot(e_losses)"
      ],
      "execution_count": 5,
      "outputs": [
        {
          "output_type": "execute_result",
          "data": {
            "text/plain": [
              "[<matplotlib.lines.Line2D at 0x7f748957b0b8>]"
            ]
          },
          "metadata": {
            "tags": []
          },
          "execution_count": 5
        },
        {
          "output_type": "display_data",
          "data": {
            "image/png": "[encoded data removed]",
            "text/plain": [
              "<Figure size 432x288 with 1 Axes>"
            ]
          },
          "metadata": {
            "tags": [],
            "needs_background": "light"
          }
        }
      ]
    },
    {
      "cell_type": "code",
      "metadata": {
        "id": "a_gJVIPOIGv1",
        "outputId": "9e7f3b3c-5227-41a1-961e-09ac4ea0dd94",
        "colab": {
          "base_uri": "https://localhost:8080/",
          "height": 52
        }
      },
      "source": [
        "x_t = Variable(torch.randn(1, 50))\n",
        "net.eval()\n",
        "print(net(x_t))\n",
        "x_1_t = Variable(torch.randn(1, 50) + 1.5)\n",
        "print(net(x_1_t))"
      ],
      "execution_count": 6,
      "outputs": [
        {
          "output_type": "stream",
          "text": [
            "tensor([[4.3654e-05]], grad_fn=<SigmoidBackward>)\n",
            "tensor([[1.0000]], grad_fn=<SigmoidBackward>)\n"
          ],
          "name": "stdout"
        }
      ]
    },
    {
      "cell_type": "code",
      "metadata": {
        "id": "QvPGIkDiILj_"
      },
      "source": [
        "loss = nn.BCELoss()"
      ],
      "execution_count": 13,
      "outputs": []
    },
    {
      "cell_type": "code",
      "metadata": {
        "id": "ZBpc9EEFJpDY",
        "outputId": "ca579678-98dc-434c-afd2-59e2a343809f",
        "colab": {
          "base_uri": "https://localhost:8080/",
          "height": 35
        }
      },
      "source": [
        "y = torch.FloatTensor([0.0001])\n",
        "p = torch.FloatTensor([0])\n",
        "loss(y,p)"
      ],
      "execution_count": 22,
      "outputs": [
        {
          "output_type": "execute_result",
          "data": {
            "text/plain": [
              "tensor(0.0001)"
            ]
          },
          "metadata": {
            "tags": []
          },
          "execution_count": 22
        }
      ]
    },
    {
      "cell_type": "code",
      "metadata": {
        "id": "WuKK2b2cJw9X"
      },
      "source": [
        ""
      ],
      "execution_count": null,
      "outputs": []
    }
  ]
}